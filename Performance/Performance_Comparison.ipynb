{
 "cells": [
  {
   "cell_type": "code",
   "execution_count": 9,
   "id": "582204f4",
   "metadata": {},
   "outputs": [],
   "source": [
    "import time\n",
    "import torch\n",
    "import random\n",
    "from torch import nn\n",
    "import numpy as np\n",
    "from matplotlib import pyplot as plt\n",
    "import nbimporter\n",
    "from OptiEngine import FEM_2D, Config, Timer, optimize"
   ]
  },
  {
   "cell_type": "code",
   "execution_count": 2,
   "id": "59c53c75",
   "metadata": {},
   "outputs": [],
   "source": [
    "from NeuralNetwork_First_Iter import TopologyGenerator_FirstIter\n",
    "from NeuralNetwork_Predict_First_Iter import FirstIter_Predictor"
   ]
  },
  {
   "cell_type": "code",
   "execution_count": 3,
   "id": "e7aec4bb",
   "metadata": {},
   "outputs": [],
   "source": [
    "predictor = FirstIter_Predictor()\n",
    "generator = TopologyGenerator_FirstIter()"
   ]
  },
  {
   "cell_type": "code",
   "execution_count": 4,
   "id": "667030d5",
   "metadata": {},
   "outputs": [],
   "source": [
    "fiter_predictor_loadname = 'NeuralNetwork_Predict_First_Iter_params'\n",
    "topology_generator_loadname = 'NeuralNetwork_FirstIter_params'"
   ]
  },
  {
   "cell_type": "code",
   "execution_count": 5,
   "id": "733bc974",
   "metadata": {},
   "outputs": [
    {
     "data": {
      "text/plain": [
       "<All keys matched successfully>"
      ]
     },
     "execution_count": 5,
     "metadata": {},
     "output_type": "execute_result"
    }
   ],
   "source": [
    "predictor.load_state_dict(torch.load(fiter_predictor_loadname))\n",
    "generator.load_state_dict(torch.load(topology_generator_loadname))"
   ]
  },
  {
   "cell_type": "code",
   "execution_count": 6,
   "id": "17bb0e3a",
   "metadata": {},
   "outputs": [],
   "source": [
    "def gen_design(task, predictor, generator):\n",
    "    fiter_predict = predictor(torch.FloatTensor(task).reshape(1,1,30,30)).detach().reshape(29,29)\n",
    "    topology_predict = generator(torch.FloatTensor(fiter_predict).reshape(1,1,29,29)).detach().reshape(29,29)\n",
    "    return topology_predict"
   ]
  },
  {
   "cell_type": "code",
   "execution_count": 7,
   "id": "a59a8c30",
   "metadata": {},
   "outputs": [],
   "source": [
    "def load_data(path, name_pattern, n_samples):\n",
    "    pattern = f'{path}\\\\{name_pattern}_'\n",
    "    fiter_pattern = f'{path}\\\\{name_pattern}_first_iter_'\n",
    "    \n",
    "    # Loading first sample\n",
    "    tasks = np.loadtxt(f'{pattern}{0}_task.txt')\n",
    "    f_iters = np.loadtxt(f'{fiter_pattern}{0}_result.txt')\n",
    "    \n",
    "    for sample_i in range(1, n_samples):\n",
    "        new_task = np.loadtxt(f'{pattern}{sample_i}_task.txt')\n",
    "        new_fiter = np.loadtxt(f'{fiter_pattern}{sample_i}_result.txt')\n",
    "        tasks = np.concatenate([tasks, new_task], axis = 0)\n",
    "        f_iters = np.concatenate([f_iters, new_fiter], axis = 0)\n",
    "        \n",
    "    return (tasks.reshape(n_samples, 30, 30), f_iters.reshape(n_samples, 29, 29))"
   ]
  },
  {
   "cell_type": "code",
   "execution_count": 11,
   "id": "500aa090",
   "metadata": {},
   "outputs": [
    {
     "name": "stdout",
     "output_type": "stream",
     "text": [
      "10% measured.\n",
      "20% measured.\n",
      "30% measured.\n",
      "40% measured.\n",
      "50% measured.\n",
      "60% measured.\n",
      "70% measured.\n",
      "80% measured.\n",
      "90% measured.\n",
      "100% measured.\n"
     ]
    }
   ],
   "source": [
    "overall_simp_time = 0\n",
    "overall_nn_time = 0\n",
    "timer = Timer()\n",
    "\n",
    "config = Config()\n",
    "\n",
    "nx = 30\n",
    "ny = 30\n",
    "\n",
    "config.nx = nx\n",
    "config.ny = ny\n",
    "\n",
    "config.vol_frac = 0.3\n",
    "config.penalize = 3\n",
    "\n",
    "config.dense_delta = 0.01\n",
    "config.max_iter = 40\n",
    "\n",
    "config.E0 = 1\n",
    "config.E_void = 1e-9\n",
    "\n",
    "config.filter_r = 1.5\n",
    "config.move = 0.2\n",
    "\n",
    "config.fem_save_iters = []\n",
    "\n",
    "for i in range(n_samples):\n",
    "    # Solving with SIMP\n",
    "    fix_1_y = random.randint(0, 29)\n",
    "    fix_2_y = fix_1_y\n",
    "    while (fix_2_y == fix_1_y):\n",
    "        fix_2_y = random.randint(0, 29)\n",
    "        \n",
    "    load_y = random.randint(0,29)\n",
    "    load_x = random.randint(0,15)\n",
    "    \n",
    "    FEM_solver = FEM_2D(config.nx, config.ny, config.penalize)\n",
    "    FEM_solver.fix_node(fix_1_y, 29, 1, 1)\n",
    "    FEM_solver.fix_node(fix_2_y, 29, 1, 1)\n",
    "    FEM_solver.apply_load(load_y, load_x, 0, -1)\n",
    "    \n",
    "    timer.start()\n",
    "    FEM_solver.form_elements()\n",
    "    config.H, config.sH = FEM_solver.prepare_filter()\n",
    "    xphys_opt = optimize(FEM_solver, config, False, False)\n",
    "    overall_simp_time += timer.time_passed()\n",
    "    \n",
    "    # Solving with NN\n",
    "    task = np.zeros((30, 30))\n",
    "    task[fix_1_y, 29] = 1\n",
    "    task[fix_2_y, 29] = 1\n",
    "    task[load_y, load_x] = -1\n",
    "    \n",
    "    timer.start()\n",
    "    design = gen_design(task, predictor, generator)\n",
    "    overall_nn_time += timer.time_passed()\n",
    "    \n",
    "    if ((i+1) % 10 == 0):\n",
    "        print(f'{i+1}% measured.')"
   ]
  },
  {
   "cell_type": "code",
   "execution_count": 12,
   "id": "ce398859",
   "metadata": {},
   "outputs": [
    {
     "name": "stdout",
     "output_type": "stream",
     "text": [
      "Average SIMP time: 3.818713645499999\n",
      "Average NN time: 0.0039492509\n",
      "Ratio: 966.9463253145042\n"
     ]
    }
   ],
   "source": [
    "print(f'Average SIMP time: {overall_simp_time / n_samples}')\n",
    "print(f'Average NN time: {overall_nn_time / n_samples}')\n",
    "print(f'Ratio: {overall_simp_time / overall_nn_time}')"
   ]
  },
  {
   "cell_type": "code",
   "execution_count": null,
   "id": "f88f2b68",
   "metadata": {},
   "outputs": [],
   "source": []
  }
 ],
 "metadata": {
  "kernelspec": {
   "display_name": "Python 3 (ipykernel)",
   "language": "python",
   "name": "python3"
  },
  "language_info": {
   "codemirror_mode": {
    "name": "ipython",
    "version": 3
   },
   "file_extension": ".py",
   "mimetype": "text/x-python",
   "name": "python",
   "nbconvert_exporter": "python",
   "pygments_lexer": "ipython3",
   "version": "3.9.12"
  }
 },
 "nbformat": 4,
 "nbformat_minor": 5
}
