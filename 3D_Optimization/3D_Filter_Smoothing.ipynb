{
 "cells": [
  {
   "cell_type": "code",
   "execution_count": 1,
   "id": "7d177670",
   "metadata": {},
   "outputs": [],
   "source": [
    "import numpy as np\n",
    "import pyvista as pv\n",
    "\n",
    "from matplotlib import pyplot as plt\n",
    "\n",
    "import nbimporter\n",
    "from Design_Visualizer import read_config, Visualizer_Config, gen_voxel"
   ]
  },
  {
   "cell_type": "code",
   "execution_count": 2,
   "id": "ab841fbf",
   "metadata": {},
   "outputs": [],
   "source": [
    "gaussian_row = np.array([1, 3, 1])/5\n",
    "\n",
    "def filter_along_2(array, filter_rad, filter_):\n",
    "    # Iterating through slices\n",
    "    for slice_ in range(array.shape[0]):\n",
    "        for i in range(array.shape[1]):\n",
    "            for j in range(filter_rad, array.shape[2] - filter_rad):\n",
    "                array[slice_][i][j] = np.dot(array[slice_, i, j-filter_rad : j + filter_rad + 1], filter_)\n",
    "                 \n",
    "def filter_along_1(array, filter_rad, filter_):\n",
    "    # Iterating through slices\n",
    "    for slice_ in range(array.shape[0]):\n",
    "        for i in range(array.shape[2]):\n",
    "            for j in range(filter_rad, array.shape[1] - filter_rad):\n",
    "                array[slice_][j][i] = np.dot(array[slice_, j-filter_rad : j + filter_rad + 1, i], filter_)\n",
    "                \n",
    "def filter_along_0(array, filter_rad, filter_):\n",
    "    # Iterating through slices\n",
    "    for slice_ in range(filter_rad, array.shape[0] - filter_rad):\n",
    "        for i in range(array.shape[1]):\n",
    "            for j in range(array.shape[2]):\n",
    "                array[slice_][i][j] = np.dot(array[slice_ - filter_rad : slice_ + filter_rad + 1, i, j], filter_)"
   ]
  },
  {
   "cell_type": "code",
   "execution_count": 47,
   "id": "732fc96d",
   "metadata": {},
   "outputs": [],
   "source": [
    "path = 'C:\\\\Users\\\\mihai\\\\Desktop\\\\Unik\\\\Optimization\\\\3D\\\\Data\\\\Arm_4_2.txt'\n",
    "config = read_config(path)"
   ]
  },
  {
   "cell_type": "code",
   "execution_count": 48,
   "id": "8004fba7",
   "metadata": {},
   "outputs": [],
   "source": [
    "def dens_tensor(config):\n",
    "    density_tensor = np.zeros((config.ey, config.ez, config.ex))\n",
    "    \n",
    "    for ez_ in range(config.ez):\n",
    "        for ex_ in range(config.ex):\n",
    "            for ey_ in range(config.ey):\n",
    "                elem_index = (config.ex*config.ey)*ez_ + config.ey * ex_ + (config.ey - ey_ - 1)\n",
    "                \n",
    "                density_tensor[ey_][ez_][ex_] = config.densities[elem_index]\n",
    "                \n",
    "    return density_tensor"
   ]
  },
  {
   "cell_type": "code",
   "execution_count": 53,
   "id": "14d401a6",
   "metadata": {},
   "outputs": [],
   "source": [
    "def visualize_dt(density_tensor):\n",
    "    ez, ey, ex = density_tensor.shape\n",
    "    \n",
    "    x_range = np.arange(ex+1, dtype = np.float32)\n",
    "    y_range = np.arange(ey+1, dtype = np.float32)\n",
    "    z_range = np.arange(ez+1, dtype = np.float32)\n",
    "    \n",
    "    x, y, z = np.meshgrid(x_range, y_range, z_range, indexing = 'xy')\n",
    "    grid_ = pv.StructuredGrid(x, y, z)\n",
    "    \n",
    "    hided = []\n",
    "\n",
    "    for ez_ in range(ez):\n",
    "        for ex_ in range(ex):\n",
    "            for ey_ in range(ey):\n",
    "                elem_index_hide = (ex*ey)*ez_ + ey * ex_ + ey_\n",
    "            \n",
    "                if (density_tensor[ez_, ey_, ex_] < 0.1):\n",
    "                    hided.append(elem_index_hide)          \n",
    "                    \n",
    "    grid_.hide_cells(hided, inplace = True)\n",
    "    \n",
    "    plotter = pv.Plotter()\n",
    "    plotter.add_mesh(grid_, show_edges = False, show_vertices = False, point_size = 0, culling = False)\n",
    "    plotter.show()\n",
    "    #plotter.export_gltf('new.gltf')"
   ]
  },
  {
   "cell_type": "code",
   "execution_count": 54,
   "id": "3523d040",
   "metadata": {},
   "outputs": [],
   "source": [
    "dt = dens_tensor(config)"
   ]
  },
  {
   "cell_type": "code",
   "execution_count": 55,
   "id": "a8fcdc5e",
   "metadata": {},
   "outputs": [],
   "source": [
    "m_coef = 5\n",
    "mult = np.ones((m_coef, m_coef, m_coef))\n",
    "multiplied = np.kron(dt, mult)\n",
    "\n",
    "filter_arr = [5, 10, 10, 15, 20, 15, 10, 10, 5]\n",
    "filter_row = np.array(filter_arr)/sum(filter_arr)\n",
    "filter_rad = 4\n",
    "\n",
    "filter_along_2(multiplied, filter_rad, filter_row)\n",
    "filter_along_1(multiplied, filter_rad, filter_row)\n",
    "filter_along_0(multiplied, filter_rad, filter_row)\n",
    "\n",
    "multiplied[multiplied < 0.35] = 0.0"
   ]
  },
  {
   "cell_type": "code",
   "execution_count": 56,
   "id": "d64ed1fc",
   "metadata": {},
   "outputs": [
    {
     "data": {
      "application/vnd.jupyter.widget-view+json": {
       "model_id": "18311fba37f24b0d953b58c5162cfd03",
       "version_major": 2,
       "version_minor": 0
      },
      "text/plain": [
       "Widget(value=\"<iframe src='http://localhost:58880/index.html?ui=P_0x19e6f222100_10&reconnect=auto' style='widt…"
      ]
     },
     "metadata": {},
     "output_type": "display_data"
    }
   ],
   "source": [
    "visualize_dt(multiplied)"
   ]
  },
  {
   "cell_type": "code",
   "execution_count": null,
   "id": "5207b27f",
   "metadata": {},
   "outputs": [],
   "source": []
  }
 ],
 "metadata": {
  "kernelspec": {
   "display_name": "Python 3 (ipykernel)",
   "language": "python",
   "name": "python3"
  },
  "language_info": {
   "codemirror_mode": {
    "name": "ipython",
    "version": 3
   },
   "file_extension": ".py",
   "mimetype": "text/x-python",
   "name": "python",
   "nbconvert_exporter": "python",
   "pygments_lexer": "ipython3",
   "version": "3.9.12"
  }
 },
 "nbformat": 4,
 "nbformat_minor": 5
}
